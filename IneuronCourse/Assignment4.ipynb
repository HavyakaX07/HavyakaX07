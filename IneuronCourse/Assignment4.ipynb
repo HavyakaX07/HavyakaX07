{
 "cells": [
  {
   "cell_type": "raw",
   "id": "388efb58",
   "metadata": {},
   "source": [
    "1.What exactly is []?\n",
    "[ ] it is dataype that can store value of different data types called List"
   ]
  },
  {
   "cell_type": "raw",
   "id": "fd2ce104",
   "metadata": {},
   "source": [
    "2. In a list of values stored in a variable called spam, how would you assign the value 'hello' as the\n",
    "third value? (Assume [2, 4, 6, 8, 10] are in spam.)\n",
    "\n",
    "spam[2]='hello'"
   ]
  },
  {
   "cell_type": "raw",
   "id": "1bba62d8",
   "metadata": {},
   "source": [
    "Let's assume spam=['a','b','c','d']\n",
    "\n",
    "3. What is the value of spam[int(int('3' * 2) / 11)]?\n",
    "\n",
    "'d'"
   ]
  },
  {
   "cell_type": "raw",
   "id": "e78874e2",
   "metadata": {},
   "source": [
    "4. What is the value of spam[-1]?\n",
    "\n",
    "'d'"
   ]
  },
  {
   "cell_type": "raw",
   "id": "a68dacc9",
   "metadata": {},
   "source": [
    "5. What is the value of spam[:2]?\n",
    "\n",
    "['a','b']"
   ]
  },
  {
   "cell_type": "raw",
   "id": "60a3aa2a",
   "metadata": {},
   "source": [
    "let bacon=[3.14,'cat',11,'cat',True]\n",
    "\n",
    "6. What is the value of bacon.index('cat')?\n",
    "\n",
    "1"
   ]
  },
  {
   "cell_type": "raw",
   "id": "b2a125a4",
   "metadata": {},
   "source": [
    "7. How does bacon.append(99) change the look of the list value in bacon?\n",
    "\n",
    "It appends the value 99 to the end of the list\n",
    "\n",
    "bacon=[3.14,'cat',11,'cat',True,99]"
   ]
  },
  {
   "cell_type": "raw",
   "id": "0c503fc3",
   "metadata": {},
   "source": [
    "8. How does bacon.remove('cat') change the look of the list in bacon?\n",
    "\n",
    "Removes first occurance of cat\n",
    "\n",
    "bacon will be [3.14,11,'cat',True,99]"
   ]
  },
  {
   "cell_type": "raw",
   "id": "fb6fbd3d",
   "metadata": {},
   "source": [
    "9. What are the list concatenation and list replication operators?\n",
    "\n",
    "Concatenation is joining 2 list with help of + or extend operators\n",
    "replication is giving reference to the list or completely creating new list of same element using copy operation"
   ]
  },
  {
   "cell_type": "raw",
   "id": "2b0d903e",
   "metadata": {},
   "source": [
    "10. What is difference between the list methods append() and insert()?\n",
    "\n",
    "Append add value to the end\n",
    "Insert add value to the required index"
   ]
  },
  {
   "cell_type": "raw",
   "id": "35832fde",
   "metadata": {},
   "source": [
    "11. What are the two methods for removing items from a list?\n",
    "\n",
    "remove() here we specify the value\n",
    "del list_name[] here we specify the index"
   ]
  },
  {
   "cell_type": "raw",
   "id": "a4065c54",
   "metadata": {},
   "source": [
    "12.how list value and string values are identical?\n",
    "both are sequences"
   ]
  },
  {
   "cell_type": "raw",
   "id": "ed8073f4",
   "metadata": {},
   "source": [
    "13. What's the difference between tuples and lists?\n",
    "Tuple--Immutable\n",
    "Lists--Mutable"
   ]
  },
  {
   "cell_type": "raw",
   "id": "a533a5aa",
   "metadata": {},
   "source": [
    "14. How do you type a tuple value that only contains the integer 42?\n",
    "type((42,))"
   ]
  },
  {
   "cell_type": "raw",
   "id": "3c3d37b8",
   "metadata": {},
   "source": [
    "15. How do you get a list value's tuple form? How do you get a tuple value's list form?\n",
    "Using in-built function list() and tuple()"
   ]
  },
  {
   "cell_type": "raw",
   "id": "6125c521",
   "metadata": {},
   "source": [
    "16. Variables that &quot;contain&quot; list values are not necessarily lists themselves. Instead, what do they\n",
    "contain?\n",
    "It may contain dict,list,tuple,string, boolean"
   ]
  },
  {
   "cell_type": "raw",
   "id": "7585bdca",
   "metadata": {},
   "source": [
    "17. How do you distinguish between copy.copy() and copy.deepcopy()?\n",
    "\n",
    "copy()--> change in new obj reflect in original obj\n",
    "deepcopy()--> change in new obj does not reflect in original obj"
   ]
  },
  {
   "cell_type": "code",
   "execution_count": null,
   "id": "36ccdada",
   "metadata": {},
   "outputs": [],
   "source": []
  }
 ],
 "metadata": {
  "kernelspec": {
   "display_name": "Python 3 (ipykernel)",
   "language": "python",
   "name": "python3"
  },
  "language_info": {
   "codemirror_mode": {
    "name": "ipython",
    "version": 3
   },
   "file_extension": ".py",
   "mimetype": "text/x-python",
   "name": "python",
   "nbconvert_exporter": "python",
   "pygments_lexer": "ipython3",
   "version": "3.9.7"
  }
 },
 "nbformat": 4,
 "nbformat_minor": 5
}
