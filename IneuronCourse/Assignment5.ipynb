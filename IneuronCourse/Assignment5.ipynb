{
 "cells": [
  {
   "cell_type": "raw",
   "id": "0156b865",
   "metadata": {},
   "source": [
    "1. What does an empty dictionarys code look like?\n",
    "\n",
    "{}\n",
    "\n",
    "2. What is the value of a dictionary value with the key 'foo' and the value 42?\n",
    "\n",
    "42\n",
    "\n",
    "3. What is the most significant distinction between a dictionary and a list?\n",
    "\n",
    "Dictionary is unorederd but list is ordered\n",
    "Dictionaty has key value pair list has only index and value \n",
    "\n",
    "4. What happens if you try to access spam['foo'] if spam is {'bar': 100}?\n",
    "\n",
    "key error\n",
    "\n",
    "5. If a dictionary is stored in spam, what is the difference between the expressions 'cat' in spam and\n",
    "'cat' in spam.keys()?\n",
    "\n",
    "first one is key\n",
    "second one is value\n",
    "\n",
    "6 What is a shortcut for the following code?\n",
    "if 'color' not in spam:\n",
    "spam['color'] = 'black'\n",
    "\n",
    "spam['color'] ='black'\n",
    "\n",
    "7. How do you \"pretty print\" dictionary values using which module and function?\n",
    "\n",
    "for k,v in dict.items():\n",
    "        print(k,v)"
   ]
  }
 ],
 "metadata": {
  "kernelspec": {
   "display_name": "Python 3 (ipykernel)",
   "language": "python",
   "name": "python3"
  },
  "language_info": {
   "codemirror_mode": {
    "name": "ipython",
    "version": 3
   },
   "file_extension": ".py",
   "mimetype": "text/x-python",
   "name": "python",
   "nbconvert_exporter": "python",
   "pygments_lexer": "ipython3",
   "version": "3.9.7"
  }
 },
 "nbformat": 4,
 "nbformat_minor": 5
}
