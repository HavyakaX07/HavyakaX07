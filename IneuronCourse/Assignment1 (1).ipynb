{
 "cells": [
  {
   "cell_type": "markdown",
   "id": "70004551",
   "metadata": {},
   "source": [
    "1. In the below elements which of them are values or an expression? eg:- values can be\n",
    "integer or string and expressions will be mathematical operators.\n",
    "* it is expression used to multiply 2 numbers\n",
    "\n",
    "'hello' is is string variable\n",
    "\n",
    "-87.8 is value (double)\n",
    "\n",
    "- is expression used to subtract numbers\n",
    "\n",
    "/ division expression\n",
    "\n",
    "+ addition expression\n",
    "\n",
    "6 value integer"
   ]
  },
  {
   "cell_type": "markdown",
   "id": "0aff1401",
   "metadata": {},
   "source": [
    "2. What is the difference between string and variable?\n",
    "\n",
    "Variable is reference that we want to access or modify. It is like home for values\n",
    "\n",
    "String is kind of variable that can hold array of charactors"
   ]
  },
  {
   "cell_type": "markdown",
   "id": "b3a5a426",
   "metadata": {},
   "source": [
    "Describe three different data types.\n",
    "\n",
    "Integer---> Used to hold integer data type\n",
    "Double--> Used to hold floating point number\n",
    "Boolean--> Used to hold true and false value"
   ]
  },
  {
   "cell_type": "markdown",
   "id": "d2a20091",
   "metadata": {},
   "source": [
    "4.What is an expression made up of? What do all expressions do?\n",
    "\n",
    "An expression is made up of Logical, Arithematic, operators \n",
    "All expression evaluates to some condition or result depending upon their functionality\n"
   ]
  },
  {
   "cell_type": "markdown",
   "id": "aa48bff3",
   "metadata": {},
   "source": [
    "5. This assignment statements, like spam = 10. What is the difference between an\n",
    "expression and a statement?\n",
    "\n",
    "a=10 is the statement and\n",
    "a=10>20 is the expression this will evaluates to some result"
   ]
  },
  {
   "cell_type": "markdown",
   "id": "3a0653d3",
   "metadata": {},
   "source": [
    "6. After running the following code, what does the variable bacon contain?\n",
    "bacon = 22\n",
    "bacon + 1\n",
    "\n",
    "23"
   ]
  },
  {
   "cell_type": "markdown",
   "id": "c9c31695",
   "metadata": {},
   "source": [
    "7. What should the values of the following two terms be?\n",
    "'spam' + 'spamspam'---> spamspamspam\n",
    "'spam'*3---> spamspamspam"
   ]
  },
  {
   "cell_type": "markdown",
   "id": "b6f40508",
   "metadata": {},
   "source": [
    "8. Why is eggs a valid variable name while 100 is invalid?\n",
    "\n",
    "Always variable is used to hold some value and it should have some appropriate name \n",
    "Here 100 is value it does not indicating anything and also it does not make sense \n",
    "But egss variable indicating and containg value like eggs=100 which make sense"
   ]
  },
  {
   "cell_type": "markdown",
   "id": "e23acdf0",
   "metadata": {},
   "source": [
    "9. What three functions can be used to get the integer, floating-point number, or string\n",
    "version of a value?\n",
    "\n",
    "Lets say a is holding value 10 in string type \n",
    "int(a) will convert that to int type\n",
    "float(a) will convert that to float type\n",
    "str(a) will convert that to string type"
   ]
  },
  {
   "cell_type": "markdown",
   "id": "3d99cb29",
   "metadata": {},
   "source": [
    "10. Why does this expression cause an error? How can you fix it?\n",
    "'I have eaten'+ 99 + 'burritos'\n",
    "Here we are concatenating different data type string with int \n",
    "so we have to convert int 99 to string 99 using str\n",
    "'I have eaten'+ str(99) + 'burritos' Like this"
   ]
  },
  {
   "cell_type": "code",
   "execution_count": null,
   "id": "00237b7f",
   "metadata": {},
   "outputs": [],
   "source": []
  }
 ],
 "metadata": {
  "kernelspec": {
   "display_name": "Python 3 (ipykernel)",
   "language": "python",
   "name": "python3"
  },
  "language_info": {
   "codemirror_mode": {
    "name": "ipython",
    "version": 3
   },
   "file_extension": ".py",
   "mimetype": "text/x-python",
   "name": "python",
   "nbconvert_exporter": "python",
   "pygments_lexer": "ipython3",
   "version": "3.9.7"
  }
 },
 "nbformat": 4,
 "nbformat_minor": 5
}
