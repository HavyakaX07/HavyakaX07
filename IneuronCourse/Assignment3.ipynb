{
 "cells": [
  {
   "cell_type": "raw",
   "id": "b026d63d",
   "metadata": {},
   "source": [
    "1. Why are functions advantageous to have in your programs?\n",
    "\n",
    "Becuse they help to execute repeated task more simply because they bundle all of the repeated task"
   ]
  },
  {
   "cell_type": "raw",
   "id": "d7725367",
   "metadata": {},
   "source": [
    "2. When does the code in a function run: when it's specified or when it's called?\n",
    "    \n",
    "    when it's called"
   ]
  },
  {
   "cell_type": "raw",
   "id": "2ae4a58d",
   "metadata": {},
   "source": [
    "3. What statement creates a function?\n",
    "\n",
    "def"
   ]
  },
  {
   "cell_type": "raw",
   "id": "090e484e",
   "metadata": {},
   "source": [
    "4. What is the difference between a function and a function call?\n",
    "\n",
    "Function is defind by def key word and it bundles all the statement\n",
    "In order to execute it we have to call it. It's called Function call"
   ]
  },
  {
   "cell_type": "raw",
   "id": "e856057b",
   "metadata": {},
   "source": [
    "5. How many global scopes are there in a Python program? How many local scopes?\n",
    "There is only one global scope per execution\n",
    "And many local scope depending upon your code design"
   ]
  },
  {
   "cell_type": "raw",
   "id": "b50c2a52",
   "metadata": {},
   "source": [
    "6. What happens to variables in a local scope when the function call returns?\n",
    "\n",
    "Local scope variable will lost it's scope when function return statement executes"
   ]
  },
  {
   "cell_type": "raw",
   "id": "a2f6760f",
   "metadata": {},
   "source": [
    "7. What is the concept of a return value? Is it possible to have a return value in an expression?\n",
    "\n",
    "Return value is value that is returned from any function or expression\n",
    "like 10>15 since it is not true it will return false"
   ]
  },
  {
   "cell_type": "raw",
   "id": "5095d788",
   "metadata": {},
   "source": [
    "8. If a function does not have a return statement, what is the return value of a call to that function?\n",
    "\n",
    "None"
   ]
  },
  {
   "cell_type": "raw",
   "id": "ba9b4ef2",
   "metadata": {},
   "source": [
    "9. How do you make a function variable refer to the global variable?\n",
    "\n",
    "With help of global key word"
   ]
  },
  {
   "cell_type": "raw",
   "id": "4427060a",
   "metadata": {},
   "source": [
    "10. What is the data type of None?\n",
    "None"
   ]
  },
  {
   "cell_type": "raw",
   "id": "439f987a",
   "metadata": {},
   "source": [
    "11. What does the sentence import areallyourpetsnamederic do?\n",
    "\n",
    "Imports Respective module"
   ]
  },
  {
   "cell_type": "raw",
   "id": "10d31cce",
   "metadata": {},
   "source": [
    "12. If you had a bacon() feature in a spam module, what would you call it after importing spam?\n",
    "spam.bacon()"
   ]
  },
  {
   "cell_type": "raw",
   "id": "a3d276a8",
   "metadata": {},
   "source": [
    "13. What can you do to save a programme from crashing if it encounters an error?\n",
    "\n",
    "Separate your code from the code that has possibility of encountering the error\n",
    "USing try,except,finally block"
   ]
  },
  {
   "cell_type": "raw",
   "id": "a1bf6fb0",
   "metadata": {},
   "source": [
    "14. What is the purpose of the try clause? What is the purpose of the except clause?\n",
    "\n",
    "To separate the code that have tendancy of generating the error \n",
    "and handle it by using except block"
   ]
  },
  {
   "cell_type": "code",
   "execution_count": null,
   "id": "ba4a6714",
   "metadata": {},
   "outputs": [],
   "source": []
  }
 ],
 "metadata": {
  "kernelspec": {
   "display_name": "Python 3 (ipykernel)",
   "language": "python",
   "name": "python3"
  },
  "language_info": {
   "codemirror_mode": {
    "name": "ipython",
    "version": 3
   },
   "file_extension": ".py",
   "mimetype": "text/x-python",
   "name": "python",
   "nbconvert_exporter": "python",
   "pygments_lexer": "ipython3",
   "version": "3.9.7"
  }
 },
 "nbformat": 4,
 "nbformat_minor": 5
}
