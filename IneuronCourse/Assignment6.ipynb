{
 "cells": [
  {
   "cell_type": "raw",
   "id": "f3368ff1",
   "metadata": {},
   "source": [
    "1. What are escape characters, and how do you use them?\n",
    "\n",
    "To insert characters that are illegal in a string, use an escape character. \n",
    "An escape character is a backslash \\ followed by the character you want to insert.\n",
    "\n",
    "2. What do the escape characters n and t stand for?\n",
    "\n",
    "n--> new line\n",
    "t--> tab\n",
    "\n",
    "3. What is the way to include backslash characters in a string?\n",
    "\\\\\n",
    "\n",
    "4. The string \"Howl's Moving Castle\" is a correct value. Why isn't the single quote character in the\n",
    "word Howl's not escaped a problem?\n",
    "\n",
    "Because it is enclosed in the \" \"(double quote)\n",
    "\n",
    "5. How do you write a string of newlines if you don't want to use the n character?\n",
    "\n",
    "Use print function it has default end as new line\n",
    "\n",
    "6. What are the values of the given expressions?\n",
    "'Hello, world!'[1]--->e\n",
    "'Hello, world!'[0:5]--->Hello\n",
    "'Hello, world!'[:5]--->Hello\n",
    "'Hello, world!'[3:]--->lo, world!\n",
    "\n",
    "\n",
    "7. What are the values of the following expressions?\n",
    "'Hello'.upper()---> HELLO\n",
    "'Hello'.upper().isupper()-->Ture\n",
    "'Hello'.upper().lower()--> hello\n",
    "\n",
    "8. What are the values of the following expressions?\n",
    "'Remember, remember, the fifth of July.'.split()--->[Remember,remember,the, fifth, of, July]\n",
    "'-'.join('There can only one.'.split())---> There-can-only-one\n",
    "\n",
    "9. What are the methods for right-justifying, left-justifying, and centering a string?\n",
    "ljust()\n",
    "rjust()\n",
    "center()\n",
    "\n",
    "10. What is the best way to remove whitespace characters from the start or end?\n",
    "rstrip()\n",
    "lstrip()\n",
    "\n"
   ]
  },
  {
   "cell_type": "code",
   "execution_count": null,
   "id": "6ddf325d",
   "metadata": {},
   "outputs": [],
   "source": []
  },
  {
   "cell_type": "code",
   "execution_count": null,
   "id": "574e408b",
   "metadata": {},
   "outputs": [],
   "source": []
  }
 ],
 "metadata": {
  "kernelspec": {
   "display_name": "Python 3 (ipykernel)",
   "language": "python",
   "name": "python3"
  },
  "language_info": {
   "codemirror_mode": {
    "name": "ipython",
    "version": 3
   },
   "file_extension": ".py",
   "mimetype": "text/x-python",
   "name": "python",
   "nbconvert_exporter": "python",
   "pygments_lexer": "ipython3",
   "version": "3.9.7"
  }
 },
 "nbformat": 4,
 "nbformat_minor": 5
}
