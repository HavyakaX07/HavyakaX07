{
 "cells": [
  {
   "cell_type": "raw",
   "id": "98b6ab75",
   "metadata": {},
   "source": [
    "1.What are the two values of the Boolean data type? How do you write them?\n",
    "True and False\n",
    "flag=True\n",
    "or\n",
    "flag=False"
   ]
  },
  {
   "cell_type": "raw",
   "id": "aed899d5",
   "metadata": {},
   "source": [
    "2.What are the three different types of Boolean operators?\n",
    "Or(|)\n",
    "and(&)\n",
    "not(~)\n"
   ]
  },
  {
   "cell_type": "raw",
   "id": "c661a12f",
   "metadata": {},
   "source": [
    "3. Make a list of each Boolean operator&#39;s truth tables (i.e. every possible combination of Boolean\n",
    "values for the operator and what it evaluate ).\n",
    "And                     \n",
    "IP1|IP2| OP\n",
    "1  | 0  | 0\n",
    "1  | 1  | 1\n",
    "0  | 1  | 0\n",
    "0  | 0  | 0\n",
    "\n",
    "OR\n",
    "IP1|IP2| OP\n",
    "1  | 0  | 1\n",
    "1  | 1  | 1\n",
    "0  | 1  | 1\n",
    "0  | 0  | 0\n",
    "\n",
    "Not          \n",
    "IP1|OP\n",
    "1  |0\n",
    "0  |1"
   ]
  },
  {
   "cell_type": "raw",
   "id": "d61bf57a",
   "metadata": {},
   "source": [
    "4. What are the values of the following expressions?\n",
    "(5 > 4) and (3 == 5)--> False\n",
    "\n",
    "not (5 > 4)---> False\n",
    "\n",
    "(5 > 4) or (3 == 5)--> True\n",
    "\n",
    "not ((5 > 4) or (3 == 5))-->True\n",
    "\n",
    "(True and True) and (True == False)-->False\n",
    "\n",
    "(not False) or (not True)-->False"
   ]
  },
  {
   "cell_type": "raw",
   "id": "d23cb2c4",
   "metadata": {},
   "source": [
    "5. What are the six comparison operators?\n",
    "< Less than\n",
    "> Greater than\n",
    "== Equals\n",
    "!= Not equals\n",
    "<= less than or equal to\n",
    ">= grater than or equal to"
   ]
  },
  {
   "cell_type": "raw",
   "id": "7e46cf2e",
   "metadata": {},
   "source": [
    "6. How do you tell the difference between the equal to and assignment operators?Describe a\n",
    "condition and when you would use one.\n",
    "a=6--> this is assignment operator a is 6\n",
    "a==6--> this is comparision operator a is equal to 6 if yes returns true or false"
   ]
  },
  {
   "cell_type": "raw",
   "id": "2fc1cd64",
   "metadata": {},
   "source": [
    "7. Identify the three blocks in this code:\n",
    "spam = 0\n",
    "if spam == 10: --> this is if block with comparision operation\n",
    "print('eggs')\n",
    "if spam>5:--> if block with greater than operation\n",
    "print('bacon')\n",
    "else:---> else with no comparision operation\n",
    "print('ham')\n",
    "print('spam')\n",
    "print('spam')"
   ]
  },
  {
   "cell_type": "raw",
   "id": "7e04f2b7",
   "metadata": {},
   "source": [
    "8. Write code that prints Hello if 1 is stored in spam, prints Howdy if 2 is stored in spam, and prints\n",
    "Greetings! if anything else is stored in spam.\n",
    "\n",
    "if spam==1:\n",
    "    print('Hello')\n",
    "elif spam==2:\n",
    "    print('Howdy')\n",
    "else:\n",
    "    print('Greetings')"
   ]
  },
  {
   "cell_type": "raw",
   "id": "302670f2",
   "metadata": {},
   "source": [
    "9.If your programme is stuck in an endless loop, what keys you’ll press?\n",
    "ctrl+c or interrupt the kernal"
   ]
  },
  {
   "cell_type": "raw",
   "id": "bd542e9b",
   "metadata": {},
   "source": [
    "10. How can you tell the difference between break and continue?\n",
    "break--> will come out of the loop\n",
    "continue--> will skip current iteration and goes to next iteration"
   ]
  },
  {
   "cell_type": "raw",
   "id": "98f4132d",
   "metadata": {},
   "source": [
    "11. In a for loop, what is the difference between range(10), range(0, 10), and range(0, 10, 1)?\n",
    "All of them serve the same purpose\n",
    "range(initial_vlaue,final_value(not included),step_size)"
   ]
  },
  {
   "cell_type": "raw",
   "id": "26ecfa56",
   "metadata": {},
   "source": [
    "12. Write a short program that prints the numbers 1 to 10 using a for loop. Then write an equivalent\n",
    "program that prints the numbers 1 to 10 using a while loop.\n",
    "\n",
    "For loop\n",
    "----------\n",
    "for _ in range(10):\n",
    "    print(_)\n",
    "    \n",
    "While loop\n",
    "-----------\n",
    "i=0\n",
    "while i<10:\n",
    "    print(i)\n",
    "    i+=1"
   ]
  },
  {
   "cell_type": "raw",
   "id": "8f2aac80",
   "metadata": {},
   "source": [
    "13. If you had a function named bacon() inside a module named spam, how would you call it after\n",
    "importing spam?\n",
    "\n",
    "import spam as sp\n",
    "sp.bacon()"
   ]
  },
  {
   "cell_type": "code",
   "execution_count": null,
   "id": "e1134009",
   "metadata": {},
   "outputs": [],
   "source": []
  }
 ],
 "metadata": {
  "kernelspec": {
   "display_name": "Python 3 (ipykernel)",
   "language": "python",
   "name": "python3"
  },
  "language_info": {
   "codemirror_mode": {
    "name": "ipython",
    "version": 3
   },
   "file_extension": ".py",
   "mimetype": "text/x-python",
   "name": "python",
   "nbconvert_exporter": "python",
   "pygments_lexer": "ipython3",
   "version": "3.9.7"
  }
 },
 "nbformat": 4,
 "nbformat_minor": 5
}
